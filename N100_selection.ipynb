{
 "cells": [
  {
   "cell_type": "code",
   "execution_count": 1,
   "metadata": {},
   "outputs": [],
   "source": [
    "import pandas as pd\n",
    "%matplotlib inline\n",
    "import tangos\n",
    "import tangos.examples.mergers as mergers\n",
    "\n",
    "import numpy as np\n",
    "import h5py\n",
    "import matplotlib.pyplot as plt\n",
    "from mpl_toolkits import mplot3d\n",
    "h = 0.6776942783267969\n",
    "\n",
    "from tangos_halo_module.halo_properties import get_main_progenitor_branch, track_halo_property, get_timesteps, ID_to_sim_halo_snap, infall_final_n_particles, infall_final_coordinates, apocentric_distance, disruption_time, accretion_time, orbit_interpolation, infall_velocity, quenching_time, max_sSFR_time, max_mass_time \n",
    "from tangos_halo_module.path import get_file_path, get_halo_snap_num, read_file\n",
    "from tangos_halo_module.halos import ID_to_tangos_halo, get_survivors, get_zombies, get_host, get_survivor_IDs, get_zombie_IDs, blockPrint, enablePrint"
   ]
  },
  {
   "cell_type": "code",
   "execution_count": 9,
   "metadata": {},
   "outputs": [],
   "source": [
    "data = pd.read_csv('Mint_Data/Data100_new.csv')\n",
    "status = data['Status'].to_numpy()\n",
    "ids = data['ID'].to_numpy()\n",
    "sim = data['Simulation'].to_numpy()\n",
    "t_quench = data['time_quench'].to_numpy()"
   ]
  },
  {
   "cell_type": "code",
   "execution_count": 14,
   "metadata": {},
   "outputs": [
    {
     "data": {
      "text/plain": [
       "24"
      ]
     },
     "execution_count": 14,
     "metadata": {},
     "output_type": "execute_result"
    }
   ],
   "source": [
    "len(ids[(sim=='h329')&(t_quench==-1)])"
   ]
  },
  {
   "cell_type": "code",
   "execution_count": null,
   "metadata": {},
   "outputs": [],
   "source": [
    "data = pd.read_csv('Data.csv')\n",
    "status = data['Status'].to_numpy()\n",
    "ids = data['IDs'].to_numpy()\n",
    "t_disrupt = data['time_disruption'].to_numpy()\n",
    "max_Mstar = data['max_stellarmass'].to_numpy()\n",
    "log_max_Mstar = np.log10(max_Mstar)\n",
    "\n",
    "t_quench = np.array([quenching_time(ID=idx) for idx in ids]) \n",
    "t_infall = np.array([accretion_time(ID=idx)[0] for idx in ids]) \n",
    " \n",
    "lookback_t_quench = 13.80-t_quench\n",
    "lookback_t_disrupt = 13.80-t_disrupt\n",
    "lookback_t_infall = 13.80-t_infall\n",
    "\n",
    "phi_infall = np.array([infall_final_coordinates(ID=idx)[0][4] for idx in ids])\n",
    "phi_infall_deg = 180*phi_infall/np.pi\n",
    "phi_infall_deg[phi_infall_deg>90]=180-phi_infall_deg[phi_infall_deg>90]\n",
    "\n",
    "phi_final = np.array([infall_final_coordinates(ID=idx)[1][4] for idx in ids])\n",
    "phi_final_deg = 180*phi_final/np.pi\n",
    "phi_final_deg[phi_final_deg>90]=180-phi_final_deg[phi_final_deg>90]\n",
    "\n",
    "Mstar_infall = np.array([accretion_time(ID=idx)[1] for idx in ids]) \n",
    "log_Mstar_infall = np.log10(Mstar_infall)\n",
    "\n",
    "t_final = data['time_disruption'].to_numpy()\n",
    "t_final[t_final==-1]=13.80 # For survivors\n",
    "lookback_t_final = 13.80-t_final\n",
    "Delta_t = t_final - t_infall"
   ]
  },
  {
   "cell_type": "code",
   "execution_count": null,
   "metadata": {},
   "outputs": [],
   "source": [
    "# Color by stellar mass at infall\n",
    "fig, ax1 = plt.subplots(1, 1, sharex='none', sharey='none', figsize=(10, 8))\n",
    "fig.set_facecolor('w')\n",
    "# fig.set_dpi(150.0)\n",
    "np.seterr(divide='ignore')\n",
    "\n",
    "linx=np.linspace(0, 14, 100)\n",
    "cm = plt.cm.get_cmap('gnuplot')\n",
    "# Increase weight of axes\n",
    "plt.setp(ax1.spines.values(), linewidth=3)\n",
    "x=lookback_t_infall\n",
    "y=lookback_t_final\n",
    "z=log_Mstar_infall\n",
    "# Survivors\n",
    "im1 = ax1.scatter(x[status=='Survivor'], y[status=='Survivor']+0.3, marker='*', edgecolor='k', c=z[status=='Survivor'], alpha=0.8, lw=1, s=300, cmap=cm, vmin=3, vmax=9, label='Surviving') \n",
    "ax1.scatter(x[status=='Zombie'], y[status=='Zombie'], marker='.', edgecolor='black', c=z[status=='Zombie'], alpha=0.8, lw=1, s=400, cmap=cm, vmin=3, vmax=9, label='Disrupted') \n",
    "ax1.plot(linx, linx, lw=0.7, c='black', ls='--')\n",
    "\n",
    "cbar1 = fig.colorbar(im1, ax=ax1)\n",
    "cbar1.set_label('Infall Stellar Mass [log $M_\\odot$]', rotation=270, fontsize=23, labelpad=23)\n",
    "cbar1.ax.tick_params(labelsize=20)\n",
    "\n",
    "ax1.set_xlim(0, 14)\n",
    "ax1.set_ylim(0, 14)\n",
    "ax1.legend(loc='upper left', fontsize=18, frameon=True)\n",
    "ax1.tick_params(which='major', length=15, width=2, labelsize=15)\n",
    "ax1.tick_params(which='minor', length=8, width=2, labelsize=15)\n",
    "ax1.tick_params(direction='in', which='both', labelsize=20, bottom=True, top=True, left=True, right=True)\n",
    "ax1.set_title('Disruption Times', fontsize=20, pad=10)\n",
    "ax1.set_xlabel('Lookback Time to Infall [Gyr]', fontsize=18)\n",
    "ax1.set_ylabel('Lookback Time to Disruption [Gyr]', fontsize=18)"
   ]
  },
  {
   "cell_type": "code",
   "execution_count": null,
   "metadata": {},
   "outputs": [],
   "source": []
  },
  {
   "cell_type": "code",
   "execution_count": null,
   "metadata": {},
   "outputs": [],
   "source": []
  },
  {
   "cell_type": "code",
   "execution_count": null,
   "metadata": {},
   "outputs": [],
   "source": []
  },
  {
   "cell_type": "code",
   "execution_count": 19,
   "metadata": {},
   "outputs": [],
   "source": [
    "def get_main_progenitor_branch(tangos_halo, simulation, resolution=1000):\n",
    "    '''\n",
    "    input params: \n",
    "        tangos_halo: a valid Tangos halo object\n",
    "        simulation: h148, h229, h242, h329: string\n",
    "    output params:\n",
    "        Main Progenitor Branch: \n",
    "                list of main progenitor branch halos from earliest to latest snapshot\n",
    "        ids of Main Progenitor Branch:\n",
    "                list of main progenitor branch halo ids from earliest to latest snapshot\n",
    "    '''\n",
    "    if resolution==1000:\n",
    "        tangos.init_db(\"simulation_database/\"+ str(simulation) +\".db\")\n",
    "    elif resolution==100:\n",
    "        tangos.init_db(\"/data/Sims/Databases/100Nptcls/\"+ str(simulation) +\".db\")\n",
    "    else:\n",
    "        raise ValueError(\"Resolution not implemented yet.\")\n",
    "    ids = track_halo_property(simulation=simulation, key=\"halo_number()\", \n",
    "                              tangos_halo=tangos_halo, halo_path=0, \n",
    "                              halo_id=0, snap_num=0, resolution=resolution) # earliest to latest timestep\n",
    "    MPB = np.zeros(0)\n",
    "    unique_ids=[] # earliest to most recent timestestep\n",
    "    x = 0\n",
    "    timesteps = tangos.get_simulation(\"snapshots\").timesteps\n",
    "    snapnums = get_timesteps(simulation=simulation, resolution=resolution)[3]\n",
    "    while x <= len(timesteps)-1:\n",
    "        x = int(x)\n",
    "        # idx get_host= int(ids_flip[x]) \n",
    "        idx = int(ids[x])\n",
    "        if idx == 0:\n",
    "            MPB = np.concatenate((MPB, [-1]), axis=None)\n",
    "            unique_ids.append(0)\n",
    "        else:\n",
    "            idk=str(simulation)[1:]+str(snapnums[x])+str(idx)\n",
    "            MPB = np.concatenate((MPB, [timesteps[x][idx]]), axis=None)\n",
    "            unique_ids.append(idk)\n",
    "        x += 1\n",
    "    return MPB, unique_ids\n"
   ]
  },
  {
   "cell_type": "code",
   "execution_count": 20,
   "metadata": {},
   "outputs": [
    {
     "data": {
      "text/plain": [
       "(array([<Halo 'snapshots/h148.cosmo50PLK.3072g3HbwK1BH.000139/halo_25' | NDM=7936 Nstar=10 Ngas=2064>,\n",
       "        <Halo 'snapshots/h148.cosmo50PLK.3072g3HbwK1BH.000188/halo_29' | NDM=17080 Nstar=70 Ngas=4443>,\n",
       "        <Halo 'snapshots/h148.cosmo50PLK.3072g3HbwK1BH.000225/halo_30' | NDM=27025 Nstar=155 Ngas=6511>,\n",
       "        <Halo 'snapshots/h148.cosmo50PLK.3072g3HbwK1BH.000275/halo_34' | NDM=42312 Nstar=382 Ngas=9038>,\n",
       "        <Halo 'snapshots/h148.cosmo50PLK.3072g3HbwK1BH.000347/halo_28' | NDM=73673 Nstar=893 Ngas=15010>,\n",
       "        <Halo 'snapshots/h148.cosmo50PLK.3072g3HbwK1BH.000384/halo_21' | NDM=113654 Nstar=1361 Ngas=23831>,\n",
       "        <Halo 'snapshots/h148.cosmo50PLK.3072g3HbwK1BH.000456/halo_27' | NDM=119485 Nstar=2134 Ngas=22987>,\n",
       "        <Halo 'snapshots/h148.cosmo50PLK.3072g3HbwK1BH.000512/halo_30' | NDM=115523 Nstar=2426 Ngas=23500>,\n",
       "        <Halo 'snapshots/h148.cosmo50PLK.3072g3HbwK1BH.000640/halo_31' | NDM=119741 Nstar=3142 Ngas=26568>,\n",
       "        <Halo 'snapshots/h148.cosmo50PLK.3072g3HbwK1BH.000701/halo_31' | NDM=125511 Nstar=3454 Ngas=26910>,\n",
       "        <Halo 'snapshots/h148.cosmo50PLK.3072g3HbwK1BH.000768/halo_28' | NDM=129516 Nstar=4131 Ngas=25320>,\n",
       "        <Halo 'snapshots/h148.cosmo50PLK.3072g3HbwK1BH.000866/halo_28' | NDM=137178 Nstar=4722 Ngas=22641>,\n",
       "        <Halo 'snapshots/h148.cosmo50PLK.3072g3HbwK1BH.000896/halo_29' | NDM=137644 Nstar=5238 Ngas=21114>,\n",
       "        <Halo 'snapshots/h148.cosmo50PLK.3072g3HbwK1BH.000974/halo_27' | NDM=140869 Nstar=5639 Ngas=16837>,\n",
       "        <Halo 'snapshots/h148.cosmo50PLK.3072g3HbwK1BH.001024/halo_27' | NDM=142503 Nstar=5640 Ngas=14880>,\n",
       "        <Halo 'snapshots/h148.cosmo50PLK.3072g3HbwK1BH.001106/halo_24' | NDM=145130 Nstar=5747 Ngas=14327>,\n",
       "        <Halo 'snapshots/h148.cosmo50PLK.3072g3HbwK1BH.001152/halo_23' | NDM=147054 Nstar=5786 Ngas=14438>,\n",
       "        <Halo 'snapshots/h148.cosmo50PLK.3072g3HbwK1BH.001269/halo_23' | NDM=150333 Nstar=6080 Ngas=12967>,\n",
       "        <Halo 'snapshots/h148.cosmo50PLK.3072g3HbwK1BH.001280/halo_23' | NDM=150633 Nstar=6106 Ngas=12986>,\n",
       "        <Halo 'snapshots/h148.cosmo50PLK.3072g3HbwK1BH.001408/halo_19' | NDM=152117 Nstar=6432 Ngas=9987>,\n",
       "        <Halo 'snapshots/h148.cosmo50PLK.3072g3HbwK1BH.001536/halo_21' | NDM=153017 Nstar=6658 Ngas=6887>,\n",
       "        <Halo 'snapshots/h148.cosmo50PLK.3072g3HbwK1BH.001740/halo_27' | NDM=103846 Nstar=6759 Ngas=3352>,\n",
       "        <Halo 'snapshots/h148.cosmo50PLK.3072g3HbwK1BH.001920/halo_18' | NDM=164623 Nstar=6811 Ngas=1563>,\n",
       "        <Halo 'snapshots/h148.cosmo50PLK.3072g3HbwK1BH.002048/halo_19' | NDM=151584 Nstar=6811 Ngas=920>,\n",
       "        <Halo 'snapshots/h148.cosmo50PLK.3072g3HbwK1BH.002088/halo_18' | NDM=144541 Nstar=6811 Ngas=791>,\n",
       "        <Halo 'snapshots/h148.cosmo50PLK.3072g3HbwK1BH.002176/halo_20' | NDM=130935 Nstar=6811 Ngas=614>,\n",
       "        <Halo 'snapshots/h148.cosmo50PLK.3072g3HbwK1BH.002304/halo_28' | NDM=99479 Nstar=6811 Ngas=368>,\n",
       "        <Halo 'snapshots/h148.cosmo50PLK.3072g3HbwK1BH.002432/halo_24' | NDM=106921 Nstar=6811 Ngas=173>,\n",
       "        <Halo 'snapshots/h148.cosmo50PLK.3072g3HbwK1BH.002554/halo_27' | NDM=98092 Nstar=6811 Ngas=32>,\n",
       "        <Halo 'snapshots/h148.cosmo50PLK.3072g3HbwK1BH.002688/halo_30' | NDM=93111 Nstar=6811 Ngas=0>,\n",
       "        <Halo 'snapshots/h148.cosmo50PLK.3072g3HbwK1BH.002816/halo_31' | NDM=90388 Nstar=6811 Ngas=0>,\n",
       "        <Halo 'snapshots/h148.cosmo50PLK.3072g3HbwK1BH.002944/halo_31' | NDM=87236 Nstar=6811 Ngas=0>,\n",
       "        <Halo 'snapshots/h148.cosmo50PLK.3072g3HbwK1BH.003072/halo_31' | NDM=77315 Nstar=6811 Ngas=0>,\n",
       "        <Halo 'snapshots/h148.cosmo50PLK.3072g3HbwK1BH.003195/halo_33' | NDM=67483 Nstar=6808 Ngas=0>,\n",
       "        <Halo 'snapshots/h148.cosmo50PLK.3072g3HbwK1BH.003200/halo_34' | NDM=67022 Nstar=6808 Ngas=0>,\n",
       "        <Halo 'snapshots/h148.cosmo50PLK.3072g3HbwK1BH.003328/halo_37' | NDM=56340 Nstar=6804 Ngas=0>,\n",
       "        <Halo 'snapshots/h148.cosmo50PLK.3072g3HbwK1BH.003456/halo_39' | NDM=49359 Nstar=6788 Ngas=0>,\n",
       "        <Halo 'snapshots/h148.cosmo50PLK.3072g3HbwK1BH.003584/halo_43' | NDM=43892 Nstar=6763 Ngas=0>,\n",
       "        <Halo 'snapshots/h148.cosmo50PLK.3072g3HbwK1BH.003606/halo_44' | NDM=43129 Nstar=6758 Ngas=0>,\n",
       "        <Halo 'snapshots/h148.cosmo50PLK.3072g3HbwK1BH.003712/halo_45' | NDM=39567 Nstar=6721 Ngas=0>,\n",
       "        <Halo 'snapshots/h148.cosmo50PLK.3072g3HbwK1BH.003840/halo_49' | NDM=35343 Nstar=6642 Ngas=0>,\n",
       "        <Halo 'snapshots/h148.cosmo50PLK.3072g3HbwK1BH.003968/halo_53' | NDM=29629 Nstar=6490 Ngas=0>,\n",
       "        <Halo 'snapshots/h148.cosmo50PLK.3072g3HbwK1BH.004096/halo_62' | NDM=23972 Nstar=6228 Ngas=0>],\n",
       "       dtype=object),\n",
       " ['148013925',\n",
       "  '148018829',\n",
       "  '148022530',\n",
       "  '148027534',\n",
       "  '148034728',\n",
       "  '148038421',\n",
       "  '148045627',\n",
       "  '148051230',\n",
       "  '148064031',\n",
       "  '148070131',\n",
       "  '148076828',\n",
       "  '148086628',\n",
       "  '148089629',\n",
       "  '148097427',\n",
       "  '148102427',\n",
       "  '148110624',\n",
       "  '148115223',\n",
       "  '148126923',\n",
       "  '148128023',\n",
       "  '148140819',\n",
       "  '148153621',\n",
       "  '148174027',\n",
       "  '148192018',\n",
       "  '148204819',\n",
       "  '148208818',\n",
       "  '148217620',\n",
       "  '148230428',\n",
       "  '148243224',\n",
       "  '148255427',\n",
       "  '148268830',\n",
       "  '148281631',\n",
       "  '148294431',\n",
       "  '148307231',\n",
       "  '148319533',\n",
       "  '148320034',\n",
       "  '148332837',\n",
       "  '148345639',\n",
       "  '148358443',\n",
       "  '148360644',\n",
       "  '148371245',\n",
       "  '148384049',\n",
       "  '148396853',\n",
       "  '148409662'])"
      ]
     },
     "execution_count": 20,
     "metadata": {},
     "output_type": "execute_result"
    }
   ],
   "source": [
    "halo=ID_to_tangos_halo(ID=148208818, resolution=100)\n",
    "get_main_progenitor_branch(tangos_halo=halo, simulation='h148', resolution=100)"
   ]
  },
  {
   "cell_type": "code",
   "execution_count": 4,
   "metadata": {},
   "outputs": [],
   "source": [
    "def get_zombie_IDs(simulation, resolution=1000):\n",
    "    '''\n",
    "    input params: \n",
    "        simulation: h148, h229, h242, h329: string\n",
    "    output params:\n",
    "        zombie IDs: IDs of unique satellites (with at least 1 star) that disrupt before z=0: a list of custom halo IDs\n",
    "    '''\n",
    "#     from .halo_properties import get_main_progenitor_branch\n",
    "#     from .path import get_halo_snap_num\n",
    "\n",
    "    # For some very strange reason, the function keeps breaking at different spots\n",
    "    # Unless these print statements exist where they currently do\n",
    "    # So... This happened.\n",
    "    blockPrint()\n",
    "    print(\"This won't print\")\n",
    "    # And this will enable printing again\n",
    "    # If you ever need it\n",
    "    #enablePrint()\n",
    "    \n",
    "    # Now this is the actual code.\n",
    "    # Note: Getting MPB corrupts halo object (god knows how)\n",
    "\n",
    "    if resolution==1000:\n",
    "        tangos.init_db(\"simulation_database/\"+ str(simulation) +\".db\")\n",
    "    elif resolution==100:\n",
    "        tangos.init_db(\"/data/Sims/Databases/100Nptcls/\"+ str(simulation) +\".db\")\n",
    "    else:\n",
    "        raise ValueError(\"Resolution not implemented yet.\")\n",
    "    t_Gyr = get_timesteps(simulation=simulation, resolution=resolution)[0]\n",
    "    print(t_Gyr)\n",
    "    # Host\n",
    "    host = get_host(simulation=simulation, resolution=resolution)\n",
    "    print(host)\n",
    "\n",
    "    # Zombies\n",
    "    redshift, ratio, progenitor_halos = mergers.get_mergers_of_major_progenitor(host)\n",
    "    zombies = [x[1] for x in progenitor_halos] \n",
    "    print(zombies)\n",
    "    host_MPB, host_MPB_ids = get_main_progenitor_branch(tangos_halo=host, simulation=simulation, resolution=resolution)\n",
    "    print(host_MPB_ids)\n",
    "    latest_signature = []\n",
    "    for sat in zombies: \n",
    "        print(sat['Mvir'])\n",
    "        print(sat)\n",
    "        sat_MPB, sat_MPB_ids = get_main_progenitor_branch(tangos_halo=sat, simulation=simulation, \n",
    "                                                          resolution=resolution)\n",
    "        print(sat_MPB_ids)\n",
    "        print(sat_MPB)\n",
    "        mismatch_times = t_Gyr[(sat_MPB_ids!=host_MPB_ids)&(sat_MPB_ids!=0)]\n",
    "        if len(mismatch_times)>0:\n",
    "            latest_signature_time = max(mismatch_times)\n",
    "            print(latest_signature_time)\n",
    "            latest_sig = sat_MPB[(t_Gyr==latest_signature_time)]\n",
    "            \n",
    "            if len(str(latest_sig))>10: # check if it is not None\n",
    "                print(latest_sig)\n",
    "                latest_signature.append(latest_sig[0])\n",
    "\n",
    "    IDs = []        \n",
    "    for sat in latest_signature:\n",
    "        IDs.append(get_halo_snap_num(tangos_halo=sat)[2])\n",
    "    IDs = list(set(IDs))\n",
    "    host_ID = get_halo_snap_num(tangos_halo=host)[2]\n",
    "    if host_ID in IDs:\n",
    "        IDs.remove(host_ID)\n",
    "    #IDs\n",
    "    IDs.sort()\n",
    "    enablePrint()\n",
    "    return IDs\n"
   ]
  },
  {
   "cell_type": "code",
   "execution_count": 4,
   "metadata": {
    "scrolled": false
   },
   "outputs": [
    {
     "data": {
      "text/plain": [
       "['329010725',\n",
       " '3290192183',\n",
       " '329019237',\n",
       " '329019269',\n",
       " '32901927',\n",
       " '329019277',\n",
       " '329019291',\n",
       " '3290225115',\n",
       " '3290225183',\n",
       " '329022534',\n",
       " '329022538',\n",
       " '32902254',\n",
       " '329022566',\n",
       " '329022590',\n",
       " '329022595',\n",
       " '329027510',\n",
       " '329027534',\n",
       " '329028850',\n",
       " '329028853',\n",
       " '329028867',\n",
       " '329028868',\n",
       " '329034772',\n",
       " '329038418',\n",
       " '329038429',\n",
       " '329038440',\n",
       " '329038446',\n",
       " '329048010',\n",
       " '329048022',\n",
       " '329048025',\n",
       " '329048036',\n",
       " '329048070',\n",
       " '32905762',\n",
       " '32905769',\n",
       " '329063711',\n",
       " '329067212',\n",
       " '329067213',\n",
       " '329067220',\n",
       " '32906727',\n",
       " '329077610',\n",
       " '32907767',\n",
       " '329086413',\n",
       " '32908649',\n",
       " '32909748',\n",
       " '32911527',\n",
       " '329124811',\n",
       " '32912695',\n",
       " '32913443',\n",
       " '32914757',\n",
       " '32915364',\n",
       " '32923043',\n",
       " '32924962',\n",
       " '32928803',\n",
       " '32930722',\n",
       " '32931684',\n",
       " '32934566']"
      ]
     },
     "execution_count": 4,
     "metadata": {},
     "output_type": "execute_result"
    }
   ],
   "source": [
    "get_zombie_IDs(simulation='h329', resolution=100)"
   ]
  },
  {
   "cell_type": "code",
   "execution_count": null,
   "metadata": {},
   "outputs": [],
   "source": []
  },
  {
   "cell_type": "code",
   "execution_count": 5,
   "metadata": {
    "scrolled": true
   },
   "outputs": [
    {
     "data": {
      "text/plain": [
       "[<Halo 'snapshots/h229.cosmo50PLK.3072gst5HbwK1BH.004096/halo_10' | NDM=83829 Nstar=4642 Ngas=3572>,\n",
       " <Halo 'snapshots/h229.cosmo50PLK.3072gst5HbwK1BH.004096/halo_1327' | NDM=549 Nstar=48 Ngas=0>,\n",
       " <Halo 'snapshots/h229.cosmo50PLK.3072gst5HbwK1BH.004096/halo_1381' | NDM=570 Nstar=3 Ngas=0>,\n",
       " <Halo 'snapshots/h229.cosmo50PLK.3072gst5HbwK1BH.004096/halo_18' | NDM=35419 Nstar=15681 Ngas=0>,\n",
       " <Halo 'snapshots/h229.cosmo50PLK.3072gst5HbwK1BH.004096/halo_191' | NDM=4037 Nstar=120 Ngas=0>,\n",
       " <Halo 'snapshots/h229.cosmo50PLK.3072gst5HbwK1BH.004096/halo_24' | NDM=37041 Nstar=973 Ngas=0>,\n",
       " <Halo 'snapshots/h229.cosmo50PLK.3072gst5HbwK1BH.004096/halo_3661' | NDM=178 Nstar=10 Ngas=0>,\n",
       " <Halo 'snapshots/h229.cosmo50PLK.3072gst5HbwK1BH.004096/halo_45' | NDM=19396 Nstar=1379 Ngas=0>,\n",
       " <Halo 'snapshots/h229.cosmo50PLK.3072gst5HbwK1BH.004096/halo_46' | NDM=20403 Nstar=127 Ngas=0>,\n",
       " <Halo 'snapshots/h229.cosmo50PLK.3072gst5HbwK1BH.004096/halo_48' | NDM=20082 Nstar=93 Ngas=0>,\n",
       " <Halo 'snapshots/h229.cosmo50PLK.3072gst5HbwK1BH.004096/halo_59' | NDM=8689 Nstar=5339 Ngas=2247>,\n",
       " <Halo 'snapshots/h229.cosmo50PLK.3072gst5HbwK1BH.004096/halo_67' | NDM=13211 Nstar=552 Ngas=0>,\n",
       " <Halo 'snapshots/h229.cosmo50PLK.3072gst5HbwK1BH.004096/halo_89' | NDM=9164 Nstar=3 Ngas=0>,\n",
       " <Halo 'snapshots/h229.cosmo50PLK.3072gst5HbwK1BH.004096/halo_91' | NDM=8607 Nstar=466 Ngas=0>]"
      ]
     },
     "execution_count": 5,
     "metadata": {},
     "output_type": "execute_result"
    }
   ],
   "source": [
    "get_survivors(simulation='h229', resolution=100)"
   ]
  },
  {
   "cell_type": "code",
   "execution_count": 25,
   "metadata": {},
   "outputs": [],
   "source": []
  },
  {
   "cell_type": "code",
   "execution_count": 26,
   "metadata": {},
   "outputs": [
    {
     "data": {
      "text/plain": [
       "('6', '3456', '32934566', 'h329')"
      ]
     },
     "execution_count": 26,
     "metadata": {},
     "output_type": "execute_result"
    }
   ],
   "source": [
    "# \n",
    "testhalo = ID_to_tangos_halo(ID='32934566', resolution=100)\n",
    "print(testhalo)\n",
    "get_halo_snap_num(tangos_halo=testhalo)"
   ]
  },
  {
   "cell_type": "code",
   "execution_count": 2,
   "metadata": {},
   "outputs": [
    {
     "data": {
      "text/plain": [
       "(array([-1.0, -1.0, -1.0, -1.0, -1.0, -1.0, -1.0, -1.0, -1.0, -1.0, -1.0,\n",
       "        -1.0, -1.0, -1.0, -1.0, -1.0, -1.0,\n",
       "        <Halo 'snapshots/h148.cosmo50PLK.3072g3HbwK1BH.001269/halo_475' | NDM=4782 Nstar=21 Ngas=0>,\n",
       "        <Halo 'snapshots/h148.cosmo50PLK.3072g3HbwK1BH.001280/halo_489' | NDM=4634 Nstar=21 Ngas=0>,\n",
       "        <Halo 'snapshots/h148.cosmo50PLK.3072g3HbwK1BH.001408/halo_630' | NDM=3245 Nstar=21 Ngas=0>,\n",
       "        <Halo 'snapshots/h148.cosmo50PLK.3072g3HbwK1BH.001536/halo_731' | NDM=2694 Nstar=21 Ngas=0>,\n",
       "        <Halo 'snapshots/h148.cosmo50PLK.3072g3HbwK1BH.001740/halo_709' | NDM=2662 Nstar=21 Ngas=0>,\n",
       "        <Halo 'snapshots/h148.cosmo50PLK.3072g3HbwK1BH.001920/halo_680' | NDM=2720 Nstar=21 Ngas=0>,\n",
       "        <Halo 'snapshots/h148.cosmo50PLK.3072g3HbwK1BH.002048/halo_636' | NDM=2801 Nstar=21 Ngas=0>,\n",
       "        <Halo 'snapshots/h148.cosmo50PLK.3072g3HbwK1BH.002088/halo_633' | NDM=2804 Nstar=21 Ngas=0>,\n",
       "        <Halo 'snapshots/h148.cosmo50PLK.3072g3HbwK1BH.002176/halo_654' | NDM=2674 Nstar=21 Ngas=0>,\n",
       "        <Halo 'snapshots/h148.cosmo50PLK.3072g3HbwK1BH.002304/halo_664' | NDM=2526 Nstar=21 Ngas=0>,\n",
       "        <Halo 'snapshots/h148.cosmo50PLK.3072g3HbwK1BH.002432/halo_773' | NDM=2066 Nstar=21 Ngas=0>,\n",
       "        <Halo 'snapshots/h148.cosmo50PLK.3072g3HbwK1BH.002554/halo_634' | NDM=2536 Nstar=21 Ngas=0>,\n",
       "        <Halo 'snapshots/h148.cosmo50PLK.3072g3HbwK1BH.002688/halo_669' | NDM=2268 Nstar=21 Ngas=0>,\n",
       "        <Halo 'snapshots/h148.cosmo50PLK.3072g3HbwK1BH.002816/halo_795' | NDM=1854 Nstar=21 Ngas=0>,\n",
       "        <Halo 'snapshots/h148.cosmo50PLK.3072g3HbwK1BH.002944/halo_869' | NDM=1599 Nstar=21 Ngas=0>,\n",
       "        <Halo 'snapshots/h148.cosmo50PLK.3072g3HbwK1BH.003072/halo_966' | NDM=1382 Nstar=20 Ngas=0>,\n",
       "        <Halo 'snapshots/h148.cosmo50PLK.3072g3HbwK1BH.003195/halo_985' | NDM=1322 Nstar=20 Ngas=0>,\n",
       "        <Halo 'snapshots/h148.cosmo50PLK.3072g3HbwK1BH.003200/halo_986' | NDM=1322 Nstar=20 Ngas=0>,\n",
       "        <Halo 'snapshots/h148.cosmo50PLK.3072g3HbwK1BH.003328/halo_981' | NDM=1295 Nstar=20 Ngas=0>,\n",
       "        <Halo 'snapshots/h148.cosmo50PLK.3072g3HbwK1BH.003456/halo_965' | NDM=1283 Nstar=20 Ngas=0>,\n",
       "        <Halo 'snapshots/h148.cosmo50PLK.3072g3HbwK1BH.003584/halo_959' | NDM=1272 Nstar=20 Ngas=0>,\n",
       "        <Halo 'snapshots/h148.cosmo50PLK.3072g3HbwK1BH.003606/halo_956' | NDM=1267 Nstar=20 Ngas=0>,\n",
       "        <Halo 'snapshots/h148.cosmo50PLK.3072g3HbwK1BH.003712/halo_986' | NDM=1195 Nstar=20 Ngas=0>,\n",
       "        <Halo 'snapshots/h148.cosmo50PLK.3072g3HbwK1BH.003840/halo_1032' | NDM=1113 Nstar=20 Ngas=0>,\n",
       "        <Halo 'snapshots/h148.cosmo50PLK.3072g3HbwK1BH.003968/halo_1066' | NDM=1051 Nstar=20 Ngas=0>,\n",
       "        <Halo 'snapshots/h148.cosmo50PLK.3072g3HbwK1BH.004096/halo_1101' | NDM=989 Nstar=20 Ngas=0>],\n",
       "       dtype=object),\n",
       " array([   0.,    0.,    0.,    0.,    0.,    0.,    0.,    0.,    0.,\n",
       "           0.,    0.,    0.,    0.,    0.,    0.,    0.,    0.,  475.,\n",
       "         489.,  630.,  731.,  709.,  680.,  636.,  633.,  654.,  664.,\n",
       "         773.,  634.,  669.,  795.,  869.,  966.,  985.,  986.,  981.,\n",
       "         965.,  959.,  956.,  986., 1032., 1066., 1101.]))"
      ]
     },
     "execution_count": 2,
     "metadata": {},
     "output_type": "execute_result"
    }
   ],
   "source": [
    "testhalo = ID_to_tangos_halo(ID=14840961101, resolution=100)\n",
    "get_main_progenitor_branch(tangos_halo=testhalo, simulation='h148', resolution=100)"
   ]
  },
  {
   "cell_type": "code",
   "execution_count": 8,
   "metadata": {},
   "outputs": [
    {
     "data": {
      "text/plain": [
       "['148409610',\n",
       " '148409610270',\n",
       " '14840961090',\n",
       " '14840961101',\n",
       " '148409612',\n",
       " '14840961292',\n",
       " '148409613',\n",
       " '1484096189',\n",
       " '14840962',\n",
       " '1484096217',\n",
       " '1484096223',\n",
       " '14840962297',\n",
       " '148409623',\n",
       " '1484096263',\n",
       " '1484096290',\n",
       " '14840963',\n",
       " '1484096306',\n",
       " '148409636',\n",
       " '1484096380',\n",
       " '148409639',\n",
       " '14840964',\n",
       " '1484096438',\n",
       " '148409644',\n",
       " '148409648',\n",
       " '1484096563',\n",
       " '148409662',\n",
       " '148409669',\n",
       " '1484096779',\n",
       " '1484096932']"
      ]
     },
     "execution_count": 8,
     "metadata": {},
     "output_type": "execute_result"
    }
   ],
   "source": [
    "get_survivor_IDs(simulation='h148', resolution=100)"
   ]
  },
  {
   "cell_type": "code",
   "execution_count": 4,
   "metadata": {},
   "outputs": [],
   "source": [
    "tangos.init_db(\"/data/Sims/Databases/100Nptcls/h329.db\")\n",
    "timesteps = tangos.get_simulation(\"snapshots\").timesteps "
   ]
  },
  {
   "cell_type": "code",
   "execution_count": 7,
   "metadata": {},
   "outputs": [
    {
     "data": {
      "text/plain": [
       "<Halo 'snapshots/h329.cosmo50PLK.3072gst5HbwK1BH.004096/halo_1' | NDM=14013447 Nstar=17592280 Ngas=1062105>"
      ]
     },
     "execution_count": 7,
     "metadata": {},
     "output_type": "execute_result"
    }
   ],
   "source": [
    "timesteps[-1][1]"
   ]
  },
  {
   "cell_type": "code",
   "execution_count": 6,
   "metadata": {},
   "outputs": [],
   "source": [
    "def track_halo_property(simulation, key, tangos_halo=0, halo_path=0, halo_id=0, snap_num=0, resolution=1000):\n",
    "    '''\n",
    "    input params: \n",
    "        simulation: h148, h229, h242, h329: string\n",
    "        key: pre-existing tangos halo property (eg. 'Mvir' or 'VXc'): string\n",
    "        tangos_halo: a valid Tangos halo object\n",
    "        halo_path: 0 or a complete tangos halo address: path or string object\n",
    "        halo_id: halo id: string or numeric\n",
    "        snap_num: 4 digit simulation snapshot number: string\n",
    "    output params:\n",
    "        tracked parameter: earliest --> latest snapshot: numpy array\n",
    "    '''\n",
    "    \n",
    "    if tangos_halo:\n",
    "        halo = tangos_halo\n",
    "    elif halo_id and snap_num and simulation:\n",
    "        #string tangos halo query from components\n",
    "        if simulation == 'h148':\n",
    "            halo = tangos.get_halo(\"snapshots/\"+ str(simulation) +\n",
    "                               \".cosmo50PLK.3072g3HbwK1BH.00\"+ str(snap_num) +\"/\"+ str(halo_id))\n",
    "        else:\n",
    "            halo = tangos.get_halo(\"snapshots/\"+ str(simulation) +\n",
    "                               \".cosmo50PLK.3072gst5HbwK1BH.00\"+ str(snap_num) +\"/\"+ str(halo_id))\n",
    "    elif halo_path:\n",
    "        halo = tangos.get_halo(str(halo))\n",
    "    else:\n",
    "        raise ValueError(\"Halo %r not found. You got this tho.\" % (halo))\n",
    "\n",
    "        #edit .db path to match local address\n",
    "    if resolution==1000:\n",
    "        tangos.init_db(\"simulation_database/\"+ str(simulation) +\".db\")\n",
    "    elif resolution==100:\n",
    "        tangos.init_db(\"/data/Sims/Databases/100Nptcls/\"+ str(simulation) +\".db\")\n",
    "    else:\n",
    "        raise ValueError(\"Resolution not implemented yet.\")\n",
    "        \n",
    "    # round all times in Gyr to 2 decimal places due to \n",
    "    # inconsistent float truncation between response to livecalculation query and direct database query\n",
    "    halo_gyr = round(halo.timestep.time_gyr, 2)\n",
    "    prog = np.flip(halo.calculate_for_progenitors(str(key))[0])\n",
    "    desc = halo.calculate_for_descendants(str(key))[0][1:]\n",
    "    track = np.array(np.concatenate((prog, desc), axis=None))\n",
    "\n",
    "    len_track = len(track)\n",
    "    timesteps = get_timesteps(simulation)[0] \n",
    "    timesteps = [round(t, 2) for t in timesteps] #in gyr since start of sim\n",
    "    num_timesteps = len(timesteps)\n",
    "    #len(tangos.get_simulation(\"snapshots\").timesteps) #62 for h229, h242, h329\n",
    "    \n",
    "    if len_track == num_timesteps:\n",
    "        return np.asarray(track)\n",
    "    elif len_track > num_timesteps/2: #pad track with initial 0s\n",
    "        return np.array(np.concatenate((np.zeros(num_timesteps - len_track), track), axis=None), dtype=float)\n",
    "    else:\n",
    "        # i = np.where(timesteps==halo_gyr)[0][0]\n",
    "        i = timesteps.index(halo_gyr)\n",
    "        new_track = np.zeros(num_timesteps)\n",
    "        new_track[i+1:i+1+len(desc)] = desc\n",
    "        new_track[i+1-len(prog):i+1] = prog\n",
    "        return new_track \n",
    "    "
   ]
  },
  {
   "cell_type": "code",
   "execution_count": 7,
   "metadata": {},
   "outputs": [
    {
     "data": {
      "text/plain": [
       "array([17250.04846327, 17224.12010416, 17205.74227812, 17183.52993609,\n",
       "       17153.04448364, 17134.29186282, 17092.54103052, 17079.01651849,\n",
       "       17011.57054883, 16990.35823642, 16977.07445752, 16997.83137774,\n",
       "       17003.22530367, 17019.32485121, 17029.55816248, 17051.83650939,\n",
       "       17064.86364515, 17094.91266587, 17097.51465106, 17125.62652772,\n",
       "       17122.75915771, 17128.21424544, 17126.48023106, 17123.67568034,\n",
       "       17123.36464989, 17123.11332402, 17122.26981446, 17121.52016358,\n",
       "       17125.521444  , 17134.82374467, 17138.39323282, 17139.98356925,\n",
       "       17137.73082025, 17140.63340119, 17140.78567167, 17140.78471346,\n",
       "       17137.96355394, 17134.53996007, 17133.65353969, 17131.02729267,\n",
       "       17127.47658492, 17125.0676083 , 17123.35160689])"
      ]
     },
     "execution_count": 7,
     "metadata": {},
     "output_type": "execute_result"
    }
   ],
   "source": [
    "halo = ID_to_tangos_halo(ID='14840961', resolution=100)\n",
    "track_halo_property(simulation='h148', key='Xc', tangos_halo=halo, halo_path=0, halo_id=0, snap_num=0, resolution=100)\n"
   ]
  },
  {
   "cell_type": "code",
   "execution_count": null,
   "metadata": {
    "scrolled": true
   },
   "outputs": [],
   "source": [
    "for idx in get_survivor_IDs(simulation='h148', resolution=100):\n",
    "    halo = ID_to_tangos_halo(ID=idx, resolution=100)\n",
    "    print(halo)\n",
    "    print(track_halo_property(simulation='h148', key='Zc', tangos_halo=halo, halo_path=0, halo_id=0, snap_num=0, resolution=100))"
   ]
  },
  {
   "cell_type": "code",
   "execution_count": 6,
   "metadata": {},
   "outputs": [],
   "source": [
    "def get_main_progenitor_branch(tangos_halo, simulation, resolution=1000):\n",
    "    '''\n",
    "    input params: \n",
    "        tangos_halo: a valid Tangos halo object\n",
    "        simulation: h148, h229, h242, h329: string\n",
    "    output params:\n",
    "        Main Progenitor Branch: \n",
    "                list of main progenitor branch halos from earliest to latest snapshot\n",
    "        ids of Main Progenitor Branch:\n",
    "                list of main progenitor branch halo ids from earliest to latest snapshot\n",
    "    '''\n",
    "    blockPrint()\n",
    "    if resolution==1000:\n",
    "        tangos.init_db(\"simulation_database/\"+ str(simulation) +\".db\")\n",
    "    elif resolution==100:\n",
    "        tangos.init_db(\"/data/Sims/Databases/100Nptcls/\"+ str(simulation) +\".db\")\n",
    "    else:\n",
    "        raise ValueError(\"Resolution not implemented yet.\")\n",
    "    ids = track_halo_property(simulation=simulation, key=\"halo_number()\", \n",
    "                              tangos_halo=tangos_halo, halo_path=0, \n",
    "                              halo_id=0, snap_num=0, resolution=resolution) # earliest to latest timestep\n",
    "    MPB = np.zeros(0) # earliest to most recent timestestep\n",
    "    x = 0\n",
    "    timesteps = get_timesteps(simulation=simulation, resolution=resolution)[3]\n",
    "    while x <= len(timesteps)-1:\n",
    "        x = int(x)\n",
    "        idx = int(ids[x])\n",
    "        if idx == 0:\n",
    "            MPB = np.concatenate((MPB, [-1]), axis=None)\n",
    "        else:\n",
    "            idk=str(simulation)[1:]+str(int(timesteps[x]))+str(idx)\n",
    "            halo=ID_to_tangos_halo(ID=idk, resolution=resolution)\n",
    "            print(halo)\n",
    "            MPB = np.concatenate((MPB, [halo]), axis=None)\n",
    "        x += 1\n",
    "    enablePrint()\n",
    "    return MPB, ids"
   ]
  },
  {
   "cell_type": "code",
   "execution_count": 7,
   "metadata": {},
   "outputs": [
    {
     "data": {
      "text/plain": [
       "(array([-1.0, -1.0, -1.0, -1.0, -1.0, -1.0, -1.0, -1.0, -1.0, -1.0, -1.0,\n",
       "        -1.0, -1.0, -1.0, -1.0, -1.0, -1.0,\n",
       "        <Halo 'snapshots/h148.cosmo50PLK.3072g3HbwK1BH.001269/halo_475' | NDM=4782 Nstar=21 Ngas=0>,\n",
       "        <Halo 'snapshots/h148.cosmo50PLK.3072g3HbwK1BH.001280/halo_489' | NDM=4634 Nstar=21 Ngas=0>,\n",
       "        <Halo 'snapshots/h148.cosmo50PLK.3072g3HbwK1BH.001408/halo_630' | NDM=3245 Nstar=21 Ngas=0>,\n",
       "        <Halo 'snapshots/h148.cosmo50PLK.3072g3HbwK1BH.001536/halo_731' | NDM=2694 Nstar=21 Ngas=0>,\n",
       "        <Halo 'snapshots/h148.cosmo50PLK.3072g3HbwK1BH.001740/halo_709' | NDM=2662 Nstar=21 Ngas=0>,\n",
       "        <Halo 'snapshots/h148.cosmo50PLK.3072g3HbwK1BH.001920/halo_680' | NDM=2720 Nstar=21 Ngas=0>,\n",
       "        <Halo 'snapshots/h148.cosmo50PLK.3072g3HbwK1BH.002048/halo_636' | NDM=2801 Nstar=21 Ngas=0>,\n",
       "        <Halo 'snapshots/h148.cosmo50PLK.3072g3HbwK1BH.002088/halo_633' | NDM=2804 Nstar=21 Ngas=0>,\n",
       "        <Halo 'snapshots/h148.cosmo50PLK.3072g3HbwK1BH.002176/halo_654' | NDM=2674 Nstar=21 Ngas=0>,\n",
       "        <Halo 'snapshots/h148.cosmo50PLK.3072g3HbwK1BH.002304/halo_664' | NDM=2526 Nstar=21 Ngas=0>,\n",
       "        <Halo 'snapshots/h148.cosmo50PLK.3072g3HbwK1BH.002432/halo_773' | NDM=2066 Nstar=21 Ngas=0>,\n",
       "        <Halo 'snapshots/h148.cosmo50PLK.3072g3HbwK1BH.002554/halo_634' | NDM=2536 Nstar=21 Ngas=0>,\n",
       "        <Halo 'snapshots/h148.cosmo50PLK.3072g3HbwK1BH.002688/halo_669' | NDM=2268 Nstar=21 Ngas=0>,\n",
       "        <Halo 'snapshots/h148.cosmo50PLK.3072g3HbwK1BH.002816/halo_795' | NDM=1854 Nstar=21 Ngas=0>,\n",
       "        <Halo 'snapshots/h148.cosmo50PLK.3072g3HbwK1BH.002944/halo_869' | NDM=1599 Nstar=21 Ngas=0>,\n",
       "        <Halo 'snapshots/h148.cosmo50PLK.3072g3HbwK1BH.003072/halo_966' | NDM=1382 Nstar=20 Ngas=0>,\n",
       "        <Halo 'snapshots/h148.cosmo50PLK.3072g3HbwK1BH.003195/halo_985' | NDM=1322 Nstar=20 Ngas=0>,\n",
       "        <Halo 'snapshots/h148.cosmo50PLK.3072g3HbwK1BH.003200/halo_986' | NDM=1322 Nstar=20 Ngas=0>,\n",
       "        <Halo 'snapshots/h148.cosmo50PLK.3072g3HbwK1BH.003328/halo_981' | NDM=1295 Nstar=20 Ngas=0>,\n",
       "        <Halo 'snapshots/h148.cosmo50PLK.3072g3HbwK1BH.003456/halo_965' | NDM=1283 Nstar=20 Ngas=0>,\n",
       "        <Halo 'snapshots/h148.cosmo50PLK.3072g3HbwK1BH.003584/halo_959' | NDM=1272 Nstar=20 Ngas=0>,\n",
       "        <Halo 'snapshots/h148.cosmo50PLK.3072g3HbwK1BH.003606/halo_956' | NDM=1267 Nstar=20 Ngas=0>,\n",
       "        <Halo 'snapshots/h148.cosmo50PLK.3072g3HbwK1BH.003712/halo_986' | NDM=1195 Nstar=20 Ngas=0>,\n",
       "        <Halo 'snapshots/h148.cosmo50PLK.3072g3HbwK1BH.003840/halo_1032' | NDM=1113 Nstar=20 Ngas=0>,\n",
       "        <Halo 'snapshots/h148.cosmo50PLK.3072g3HbwK1BH.003968/halo_1066' | NDM=1051 Nstar=20 Ngas=0>,\n",
       "        <Halo 'snapshots/h148.cosmo50PLK.3072g3HbwK1BH.004096/halo_1101' | NDM=989 Nstar=20 Ngas=0>],\n",
       "       dtype=object),\n",
       " array([   0.,    0.,    0.,    0.,    0.,    0.,    0.,    0.,    0.,\n",
       "           0.,    0.,    0.,    0.,    0.,    0.,    0.,    0.,  475.,\n",
       "         489.,  630.,  731.,  709.,  680.,  636.,  633.,  654.,  664.,\n",
       "         773.,  634.,  669.,  795.,  869.,  966.,  985.,  986.,  981.,\n",
       "         965.,  959.,  956.,  986., 1032., 1066., 1101.]))"
      ]
     },
     "execution_count": 7,
     "metadata": {},
     "output_type": "execute_result"
    }
   ],
   "source": [
    "testhalo = ID_to_tangos_halo(ID='14840961101', resolution=100)\n",
    "get_main_progenitor_branch(tangos_halo=testhalo, simulation='h148', resolution=100)"
   ]
  },
  {
   "cell_type": "code",
   "execution_count": 22,
   "metadata": {},
   "outputs": [],
   "source": [
    "simulation='h148'\n",
    "tangos.init_db(\"/data/Sims/Databases/100Nptcls/\"+ str(simulation) +\".db\")\n",
    "timesteps = tangos.get_simulation(\"snapshots\").timesteps"
   ]
  },
  {
   "cell_type": "code",
   "execution_count": 18,
   "metadata": {
    "scrolled": false
   },
   "outputs": [
    {
     "data": {
      "text/plain": [
       "['0071',\n",
       " '0096',\n",
       " '0107',\n",
       " '0139',\n",
       " '0188',\n",
       " '0192',\n",
       " '0225',\n",
       " '0275',\n",
       " '0288',\n",
       " '0347',\n",
       " '0384',\n",
       " '0456',\n",
       " '0480',\n",
       " '0576',\n",
       " '0637',\n",
       " '0672',\n",
       " '0768',\n",
       " '0776',\n",
       " '0864',\n",
       " '0960',\n",
       " '0974',\n",
       " '1056',\n",
       " '1106',\n",
       " '1152',\n",
       " '1248',\n",
       " '1269',\n",
       " '1344',\n",
       " '1440',\n",
       " '1475',\n",
       " '1536',\n",
       " '1632',\n",
       " '1728',\n",
       " '1740',\n",
       " '1824',\n",
       " '1920',\n",
       " '2016',\n",
       " '2088',\n",
       " '2112',\n",
       " '2208',\n",
       " '2304',\n",
       " '2400',\n",
       " '2496',\n",
       " '2554',\n",
       " '2592',\n",
       " '2688',\n",
       " '2784',\n",
       " '2880',\n",
       " '2976',\n",
       " '3072',\n",
       " '3168',\n",
       " '3195',\n",
       " '3264',\n",
       " '3360',\n",
       " '3456',\n",
       " '3552',\n",
       " '3606',\n",
       " '3648',\n",
       " '3744',\n",
       " '3840',\n",
       " '3936',\n",
       " '4032',\n",
       " '4096']"
      ]
     },
     "execution_count": 18,
     "metadata": {},
     "output_type": "execute_result"
    }
   ],
   "source": [
    "get_timesteps(simulation='h329', resolution=100)[3]"
   ]
  },
  {
   "cell_type": "code",
   "execution_count": null,
   "metadata": {},
   "outputs": [],
   "source": []
  }
 ],
 "metadata": {
  "kernelspec": {
   "display_name": "Python 3",
   "language": "python",
   "name": "python3"
  },
  "language_info": {
   "codemirror_mode": {
    "name": "ipython",
    "version": 3
   },
   "file_extension": ".py",
   "mimetype": "text/x-python",
   "name": "python",
   "nbconvert_exporter": "python",
   "pygments_lexer": "ipython3",
   "version": "3.6.12"
  }
 },
 "nbformat": 4,
 "nbformat_minor": 4
}
